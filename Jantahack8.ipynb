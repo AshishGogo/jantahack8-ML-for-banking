{
 "cells": [
  {
   "cell_type": "code",
   "execution_count": 2,
   "metadata": {},
   "outputs": [],
   "source": [
    "# Load in our libraries\n",
    "import pandas as pd\n",
    "import numpy as np\n",
    "import re\n",
    "import sklearn\n",
    "import xgboost as xgb\n",
    "import seaborn as sns\n",
    "import matplotlib.pyplot as plt\n",
    "%matplotlib inline\n",
    "from tqdm import tqdm \n",
    "import plotly.offline as py\n",
    "from scipy import stats\n",
    "import plotly.graph_objs as go\n",
    "import plotly.tools as tls\n",
    "import math\n",
    "import warnings\n",
    "warnings.filterwarnings('ignore')\n",
    "\n",
    "from sklearn.metrics import confusion_matrix\n",
    "# Going to use these 5 base models for the stacking\n",
    "from sklearn.ensemble import (RandomForestClassifier, AdaBoostClassifier, \n",
    "                              GradientBoostingClassifier, ExtraTreesClassifier)\n",
    "from sklearn.linear_model import LogisticRegression\n",
    "from sklearn.tree import DecisionTreeClassifier\n",
    "from sklearn.svm import SVC\n",
    "from sklearn.model_selection import KFold"
   ]
  },
  {
   "cell_type": "code",
   "execution_count": 3,
   "metadata": {},
   "outputs": [],
   "source": [
    "dataset_train = pd.read_csv(r'C:\\Users\\Ashish\\Desktop\\Data Science A-Z\\Jantahack8\\train.csv')\n",
    "dataset_test = pd.read_csv(r'C:\\Users\\Ashish\\Desktop\\Data Science A-Z\\Jantahack8\\test.csv')\n",
    "sample = pd.read_csv(r'C:\\Users\\Ashish\\Desktop\\Data Science A-Z\\Jantahack8\\sample_submission.csv')"
   ]
  },
  {
   "cell_type": "code",
   "execution_count": 4,
   "metadata": {},
   "outputs": [
    {
     "data": {
      "text/plain": [
       "(164309, 14)"
      ]
     },
     "execution_count": 4,
     "metadata": {},
     "output_type": "execute_result"
    }
   ],
   "source": [
    "dataset_train.shape"
   ]
  },
  {
   "cell_type": "code",
   "execution_count": 5,
   "metadata": {},
   "outputs": [
    {
     "data": {
      "text/html": [
       "<div>\n",
       "<style scoped>\n",
       "    .dataframe tbody tr th:only-of-type {\n",
       "        vertical-align: middle;\n",
       "    }\n",
       "\n",
       "    .dataframe tbody tr th {\n",
       "        vertical-align: top;\n",
       "    }\n",
       "\n",
       "    .dataframe thead th {\n",
       "        text-align: right;\n",
       "    }\n",
       "</style>\n",
       "<table border=\"1\" class=\"dataframe\">\n",
       "  <thead>\n",
       "    <tr style=\"text-align: right;\">\n",
       "      <th></th>\n",
       "      <th>Loan_ID</th>\n",
       "      <th>Loan_Amount_Requested</th>\n",
       "      <th>Length_Employed</th>\n",
       "      <th>Home_Owner</th>\n",
       "      <th>Annual_Income</th>\n",
       "      <th>Income_Verified</th>\n",
       "      <th>Purpose_Of_Loan</th>\n",
       "      <th>Debt_To_Income</th>\n",
       "      <th>Inquiries_Last_6Mo</th>\n",
       "      <th>Months_Since_Deliquency</th>\n",
       "      <th>Number_Open_Accounts</th>\n",
       "      <th>Total_Accounts</th>\n",
       "      <th>Gender</th>\n",
       "      <th>Interest_Rate</th>\n",
       "    </tr>\n",
       "  </thead>\n",
       "  <tbody>\n",
       "    <tr>\n",
       "      <th>0</th>\n",
       "      <td>10000001</td>\n",
       "      <td>7,000</td>\n",
       "      <td>&lt; 1 year</td>\n",
       "      <td>Rent</td>\n",
       "      <td>68000.0</td>\n",
       "      <td>not verified</td>\n",
       "      <td>car</td>\n",
       "      <td>18.37</td>\n",
       "      <td>0</td>\n",
       "      <td>NaN</td>\n",
       "      <td>9</td>\n",
       "      <td>14</td>\n",
       "      <td>Female</td>\n",
       "      <td>1</td>\n",
       "    </tr>\n",
       "    <tr>\n",
       "      <th>1</th>\n",
       "      <td>10000002</td>\n",
       "      <td>30,000</td>\n",
       "      <td>4 years</td>\n",
       "      <td>Mortgage</td>\n",
       "      <td>NaN</td>\n",
       "      <td>VERIFIED - income</td>\n",
       "      <td>debt_consolidation</td>\n",
       "      <td>14.93</td>\n",
       "      <td>0</td>\n",
       "      <td>17.0</td>\n",
       "      <td>12</td>\n",
       "      <td>24</td>\n",
       "      <td>Female</td>\n",
       "      <td>3</td>\n",
       "    </tr>\n",
       "    <tr>\n",
       "      <th>2</th>\n",
       "      <td>10000003</td>\n",
       "      <td>24,725</td>\n",
       "      <td>7 years</td>\n",
       "      <td>Mortgage</td>\n",
       "      <td>75566.4</td>\n",
       "      <td>VERIFIED - income source</td>\n",
       "      <td>debt_consolidation</td>\n",
       "      <td>15.88</td>\n",
       "      <td>0</td>\n",
       "      <td>NaN</td>\n",
       "      <td>12</td>\n",
       "      <td>16</td>\n",
       "      <td>Male</td>\n",
       "      <td>3</td>\n",
       "    </tr>\n",
       "    <tr>\n",
       "      <th>3</th>\n",
       "      <td>10000004</td>\n",
       "      <td>16,000</td>\n",
       "      <td>&lt; 1 year</td>\n",
       "      <td>NaN</td>\n",
       "      <td>56160.0</td>\n",
       "      <td>VERIFIED - income source</td>\n",
       "      <td>debt_consolidation</td>\n",
       "      <td>14.34</td>\n",
       "      <td>3</td>\n",
       "      <td>NaN</td>\n",
       "      <td>16</td>\n",
       "      <td>22</td>\n",
       "      <td>Male</td>\n",
       "      <td>3</td>\n",
       "    </tr>\n",
       "    <tr>\n",
       "      <th>4</th>\n",
       "      <td>10000005</td>\n",
       "      <td>17,000</td>\n",
       "      <td>8 years</td>\n",
       "      <td>Own</td>\n",
       "      <td>96000.0</td>\n",
       "      <td>VERIFIED - income source</td>\n",
       "      <td>debt_consolidation</td>\n",
       "      <td>22.17</td>\n",
       "      <td>1</td>\n",
       "      <td>NaN</td>\n",
       "      <td>19</td>\n",
       "      <td>30</td>\n",
       "      <td>Female</td>\n",
       "      <td>1</td>\n",
       "    </tr>\n",
       "  </tbody>\n",
       "</table>\n",
       "</div>"
      ],
      "text/plain": [
       "    Loan_ID Loan_Amount_Requested Length_Employed Home_Owner  Annual_Income  \\\n",
       "0  10000001                 7,000        < 1 year       Rent        68000.0   \n",
       "1  10000002                30,000         4 years   Mortgage            NaN   \n",
       "2  10000003                24,725         7 years   Mortgage        75566.4   \n",
       "3  10000004                16,000        < 1 year        NaN        56160.0   \n",
       "4  10000005                17,000         8 years        Own        96000.0   \n",
       "\n",
       "            Income_Verified     Purpose_Of_Loan  Debt_To_Income  \\\n",
       "0              not verified                 car           18.37   \n",
       "1         VERIFIED - income  debt_consolidation           14.93   \n",
       "2  VERIFIED - income source  debt_consolidation           15.88   \n",
       "3  VERIFIED - income source  debt_consolidation           14.34   \n",
       "4  VERIFIED - income source  debt_consolidation           22.17   \n",
       "\n",
       "   Inquiries_Last_6Mo  Months_Since_Deliquency  Number_Open_Accounts  \\\n",
       "0                   0                      NaN                     9   \n",
       "1                   0                     17.0                    12   \n",
       "2                   0                      NaN                    12   \n",
       "3                   3                      NaN                    16   \n",
       "4                   1                      NaN                    19   \n",
       "\n",
       "   Total_Accounts  Gender  Interest_Rate  \n",
       "0              14  Female              1  \n",
       "1              24  Female              3  \n",
       "2              16    Male              3  \n",
       "3              22    Male              3  \n",
       "4              30  Female              1  "
      ]
     },
     "execution_count": 5,
     "metadata": {},
     "output_type": "execute_result"
    }
   ],
   "source": [
    "dataset_train.head()"
   ]
  },
  {
   "cell_type": "code",
   "execution_count": 6,
   "metadata": {},
   "outputs": [
    {
     "data": {
      "text/plain": [
       "Loan_ID                    164309\n",
       "Loan_Amount_Requested        1290\n",
       "Length_Employed                11\n",
       "Home_Owner                      5\n",
       "Annual_Income               12305\n",
       "Income_Verified                 3\n",
       "Purpose_Of_Loan                14\n",
       "Debt_To_Income               3953\n",
       "Inquiries_Last_6Mo              9\n",
       "Months_Since_Deliquency       122\n",
       "Number_Open_Accounts           58\n",
       "Total_Accounts                100\n",
       "Gender                          2\n",
       "Interest_Rate                   3\n",
       "dtype: int64"
      ]
     },
     "execution_count": 6,
     "metadata": {},
     "output_type": "execute_result"
    }
   ],
   "source": [
    "dataset_train.nunique()"
   ]
  },
  {
   "cell_type": "code",
   "execution_count": 7,
   "metadata": {},
   "outputs": [
    {
     "data": {
      "text/plain": [
       "Loan_ID                        0\n",
       "Loan_Amount_Requested          0\n",
       "Length_Employed             7371\n",
       "Home_Owner                 25349\n",
       "Annual_Income              25102\n",
       "Income_Verified                0\n",
       "Purpose_Of_Loan                0\n",
       "Debt_To_Income                 0\n",
       "Inquiries_Last_6Mo             0\n",
       "Months_Since_Deliquency    88379\n",
       "Number_Open_Accounts           0\n",
       "Total_Accounts                 0\n",
       "Gender                         0\n",
       "Interest_Rate                  0\n",
       "dtype: int64"
      ]
     },
     "execution_count": 7,
     "metadata": {},
     "output_type": "execute_result"
    }
   ],
   "source": [
    "dataset_train.isnull().sum()"
   ]
  },
  {
   "cell_type": "code",
   "execution_count": 8,
   "metadata": {},
   "outputs": [
    {
     "data": {
      "text/plain": [
       "array(['< 1 year', '4 years', '7 years', '8 years', '2 years',\n",
       "       '10+ years', '1 year', nan, '6 years', '9 years', '3 years',\n",
       "       '5 years'], dtype=object)"
      ]
     },
     "execution_count": 8,
     "metadata": {},
     "output_type": "execute_result"
    }
   ],
   "source": [
    "dataset_train.Length_Employed.unique()"
   ]
  },
  {
   "cell_type": "code",
   "execution_count": 274,
   "metadata": {},
   "outputs": [],
   "source": [
    "train = dataset_train.copy()\n",
    "test = dataset_test.copy()"
   ]
  },
  {
   "cell_type": "code",
   "execution_count": 275,
   "metadata": {},
   "outputs": [
    {
     "data": {
      "text/plain": [
       "array(['< 1 year', '4 years', '7 years', '8 years', '2 years',\n",
       "       '10+ years', '1 year', nan, '6 years', '9 years', '3 years',\n",
       "       '5 years'], dtype=object)"
      ]
     },
     "execution_count": 275,
     "metadata": {},
     "output_type": "execute_result"
    }
   ],
   "source": [
    "train.Length_Employed.unique()"
   ]
  },
  {
   "cell_type": "code",
   "execution_count": 276,
   "metadata": {},
   "outputs": [],
   "source": [
    "train['Length_Employed'] = train['Length_Employed'].fillna('999')\n",
    "test['Length_Employed'] = test['Length_Employed'].fillna('999')"
   ]
  },
  {
   "cell_type": "code",
   "execution_count": 277,
   "metadata": {},
   "outputs": [],
   "source": [
    "train['Length_Employed'] = train['Length_Employed'].map({'999':999,'< 1 year':0,'1 year':1,'2 years':2,'3 years':3,'4 years':4,\n",
    "                                                         '5 years':5,'6 years':6,'7 years':7,'8 years':8,'9 years':9,'10+ years':10}).astype(int)\n",
    "test['Length_Employed'] = test['Length_Employed'].map({'999':999,'< 1 year':0,'1 year':1,'2 years':2,'3 years':3,'4 years':4,\n",
    "                                                         '5 years':5,'6 years':6,'7 years':7,'8 years':8,'9 years':9,'10+ years':10}).astype(int)"
   ]
  },
  {
   "cell_type": "code",
   "execution_count": 278,
   "metadata": {},
   "outputs": [],
   "source": [
    "train['Months_Since_Deliquency'] = train['Months_Since_Deliquency'].fillna(999)\n",
    "test['Months_Since_Deliquency'] = test['Months_Since_Deliquency'].fillna(999)"
   ]
  },
  {
   "cell_type": "code",
   "execution_count": 279,
   "metadata": {},
   "outputs": [
    {
     "name": "stdout",
     "output_type": "stream",
     "text": [
      "<class 'pandas.core.frame.DataFrame'>\n",
      "RangeIndex: 164309 entries, 0 to 164308\n",
      "Data columns (total 14 columns):\n",
      "Loan_ID                    164309 non-null int64\n",
      "Loan_Amount_Requested      164309 non-null object\n",
      "Length_Employed            164309 non-null int32\n",
      "Home_Owner                 138960 non-null object\n",
      "Annual_Income              139207 non-null float64\n",
      "Income_Verified            164309 non-null object\n",
      "Purpose_Of_Loan            164309 non-null object\n",
      "Debt_To_Income             164309 non-null float64\n",
      "Inquiries_Last_6Mo         164309 non-null int64\n",
      "Months_Since_Deliquency    164309 non-null float64\n",
      "Number_Open_Accounts       164309 non-null int64\n",
      "Total_Accounts             164309 non-null int64\n",
      "Gender                     164309 non-null object\n",
      "Interest_Rate              164309 non-null int64\n",
      "dtypes: float64(3), int32(1), int64(5), object(5)\n",
      "memory usage: 16.9+ MB\n"
     ]
    }
   ],
   "source": [
    "train.info()"
   ]
  },
  {
   "cell_type": "code",
   "execution_count": 280,
   "metadata": {},
   "outputs": [
    {
     "data": {
      "text/html": [
       "<div>\n",
       "<style scoped>\n",
       "    .dataframe tbody tr th:only-of-type {\n",
       "        vertical-align: middle;\n",
       "    }\n",
       "\n",
       "    .dataframe tbody tr th {\n",
       "        vertical-align: top;\n",
       "    }\n",
       "\n",
       "    .dataframe thead th {\n",
       "        text-align: right;\n",
       "    }\n",
       "</style>\n",
       "<table border=\"1\" class=\"dataframe\">\n",
       "  <thead>\n",
       "    <tr style=\"text-align: right;\">\n",
       "      <th></th>\n",
       "      <th>Loan_ID</th>\n",
       "      <th>Loan_Amount_Requested</th>\n",
       "      <th>Length_Employed</th>\n",
       "      <th>Home_Owner</th>\n",
       "      <th>Annual_Income</th>\n",
       "      <th>Income_Verified</th>\n",
       "      <th>Purpose_Of_Loan</th>\n",
       "      <th>Debt_To_Income</th>\n",
       "      <th>Inquiries_Last_6Mo</th>\n",
       "      <th>Months_Since_Deliquency</th>\n",
       "      <th>Number_Open_Accounts</th>\n",
       "      <th>Total_Accounts</th>\n",
       "      <th>Gender</th>\n",
       "      <th>Interest_Rate</th>\n",
       "    </tr>\n",
       "  </thead>\n",
       "  <tbody>\n",
       "    <tr>\n",
       "      <th>0</th>\n",
       "      <td>10000001</td>\n",
       "      <td>7,000</td>\n",
       "      <td>0</td>\n",
       "      <td>Rent</td>\n",
       "      <td>68000.0</td>\n",
       "      <td>not verified</td>\n",
       "      <td>car</td>\n",
       "      <td>18.37</td>\n",
       "      <td>0</td>\n",
       "      <td>999.0</td>\n",
       "      <td>9</td>\n",
       "      <td>14</td>\n",
       "      <td>Female</td>\n",
       "      <td>1</td>\n",
       "    </tr>\n",
       "    <tr>\n",
       "      <th>1</th>\n",
       "      <td>10000002</td>\n",
       "      <td>30,000</td>\n",
       "      <td>4</td>\n",
       "      <td>Mortgage</td>\n",
       "      <td>NaN</td>\n",
       "      <td>VERIFIED - income</td>\n",
       "      <td>debt_consolidation</td>\n",
       "      <td>14.93</td>\n",
       "      <td>0</td>\n",
       "      <td>17.0</td>\n",
       "      <td>12</td>\n",
       "      <td>24</td>\n",
       "      <td>Female</td>\n",
       "      <td>3</td>\n",
       "    </tr>\n",
       "    <tr>\n",
       "      <th>2</th>\n",
       "      <td>10000003</td>\n",
       "      <td>24,725</td>\n",
       "      <td>7</td>\n",
       "      <td>Mortgage</td>\n",
       "      <td>75566.4</td>\n",
       "      <td>VERIFIED - income source</td>\n",
       "      <td>debt_consolidation</td>\n",
       "      <td>15.88</td>\n",
       "      <td>0</td>\n",
       "      <td>999.0</td>\n",
       "      <td>12</td>\n",
       "      <td>16</td>\n",
       "      <td>Male</td>\n",
       "      <td>3</td>\n",
       "    </tr>\n",
       "    <tr>\n",
       "      <th>3</th>\n",
       "      <td>10000004</td>\n",
       "      <td>16,000</td>\n",
       "      <td>0</td>\n",
       "      <td>NaN</td>\n",
       "      <td>56160.0</td>\n",
       "      <td>VERIFIED - income source</td>\n",
       "      <td>debt_consolidation</td>\n",
       "      <td>14.34</td>\n",
       "      <td>3</td>\n",
       "      <td>999.0</td>\n",
       "      <td>16</td>\n",
       "      <td>22</td>\n",
       "      <td>Male</td>\n",
       "      <td>3</td>\n",
       "    </tr>\n",
       "    <tr>\n",
       "      <th>4</th>\n",
       "      <td>10000005</td>\n",
       "      <td>17,000</td>\n",
       "      <td>8</td>\n",
       "      <td>Own</td>\n",
       "      <td>96000.0</td>\n",
       "      <td>VERIFIED - income source</td>\n",
       "      <td>debt_consolidation</td>\n",
       "      <td>22.17</td>\n",
       "      <td>1</td>\n",
       "      <td>999.0</td>\n",
       "      <td>19</td>\n",
       "      <td>30</td>\n",
       "      <td>Female</td>\n",
       "      <td>1</td>\n",
       "    </tr>\n",
       "  </tbody>\n",
       "</table>\n",
       "</div>"
      ],
      "text/plain": [
       "    Loan_ID Loan_Amount_Requested  Length_Employed Home_Owner  Annual_Income  \\\n",
       "0  10000001                 7,000                0       Rent        68000.0   \n",
       "1  10000002                30,000                4   Mortgage            NaN   \n",
       "2  10000003                24,725                7   Mortgage        75566.4   \n",
       "3  10000004                16,000                0        NaN        56160.0   \n",
       "4  10000005                17,000                8        Own        96000.0   \n",
       "\n",
       "            Income_Verified     Purpose_Of_Loan  Debt_To_Income  \\\n",
       "0              not verified                 car           18.37   \n",
       "1         VERIFIED - income  debt_consolidation           14.93   \n",
       "2  VERIFIED - income source  debt_consolidation           15.88   \n",
       "3  VERIFIED - income source  debt_consolidation           14.34   \n",
       "4  VERIFIED - income source  debt_consolidation           22.17   \n",
       "\n",
       "   Inquiries_Last_6Mo  Months_Since_Deliquency  Number_Open_Accounts  \\\n",
       "0                   0                    999.0                     9   \n",
       "1                   0                     17.0                    12   \n",
       "2                   0                    999.0                    12   \n",
       "3                   3                    999.0                    16   \n",
       "4                   1                    999.0                    19   \n",
       "\n",
       "   Total_Accounts  Gender  Interest_Rate  \n",
       "0              14  Female              1  \n",
       "1              24  Female              3  \n",
       "2              16    Male              3  \n",
       "3              22    Male              3  \n",
       "4              30  Female              1  "
      ]
     },
     "execution_count": 280,
     "metadata": {},
     "output_type": "execute_result"
    }
   ],
   "source": [
    "train.head()"
   ]
  },
  {
   "cell_type": "code",
   "execution_count": 281,
   "metadata": {},
   "outputs": [],
   "source": [
    "train['Loan_Amount_Requested'] = train['Loan_Amount_Requested'].apply(lambda x: x.replace(\",\",\"\"))"
   ]
  },
  {
   "cell_type": "code",
   "execution_count": 282,
   "metadata": {},
   "outputs": [],
   "source": [
    "test['Loan_Amount_Requested'] = test['Loan_Amount_Requested'].apply(lambda x: x.replace(\",\",\"\"))"
   ]
  },
  {
   "cell_type": "code",
   "execution_count": 283,
   "metadata": {},
   "outputs": [],
   "source": [
    "train['Loan_Amount_Requested'] = train['Loan_Amount_Requested'].astype(float)\n",
    "test['Loan_Amount_Requested'] = test['Loan_Amount_Requested'].astype(float)"
   ]
  },
  {
   "cell_type": "code",
   "execution_count": 304,
   "metadata": {},
   "outputs": [],
   "source": [
    "y_train = train['Interest_Rate']\n",
    "X_train = train.copy()\n",
    "X_test = test.copy()\n",
    "X_train = X_train.drop(['Interest_Rate','Loan_ID'],axis=1)\n",
    "X_test = X_test.drop(['Loan_ID'],axis=1)"
   ]
  },
  {
   "cell_type": "code",
   "execution_count": 305,
   "metadata": {},
   "outputs": [],
   "source": [
    "from sklearn.preprocessing import LabelEncoder\n",
    "from sklearn import preprocessing\n",
    "for f in X_train.columns:\n",
    "    if X_train[f].dtype=='object' or X_test[f].dtype=='object': \n",
    "        lbl = preprocessing.LabelEncoder()\n",
    "        lbl.fit(list(X_train[f].values) + list(X_test[f].values))\n",
    "        X_train[f] = lbl.transform(list(X_train[f].values))\n",
    "        X_test[f] = lbl.transform(list(X_test[f].values))"
   ]
  },
  {
   "cell_type": "code",
   "execution_count": 286,
   "metadata": {},
   "outputs": [],
   "source": [
    "categorical_features = ['Length_Employed','Home_Owner','Income_Verified','Purpose_Of_Loan','Gender','Inquiries_Last_6Mo']"
   ]
  },
  {
   "cell_type": "code",
   "execution_count": 171,
   "metadata": {},
   "outputs": [
    {
     "data": {
      "image/png": "[encoded data removed]",
      "text/plain": [
       "<Figure size 1008x720 with 6 Axes>"
      ]
     },
     "metadata": {
      "needs_background": "light"
     },
     "output_type": "display_data"
    }
   ],
   "source": [
    "fig, ((ax1, ax2), (ax3, ax4), (ax5, ax6)) = plt.subplots(nrows=3, ncols=2, figsize=(14,10))\n",
    "AX = [ax1, ax2, ax3, ax4, ax5,ax6]\n",
    "\n",
    "for i,j in zip(categorical_features,AX):\n",
    "    temp = pd.crosstab(dataset_train[i],dataset_train['Interest_Rate'])\n",
    "    temp.plot(kind='bar',stacked=False,color=['red','blue','yellow'],grid=True,ax=j)"
   ]
  },
  {
   "cell_type": "code",
   "execution_count": 170,
   "metadata": {},
   "outputs": [
    {
     "name": "stdout",
     "output_type": "stream",
     "text": [
      "Interest_Rate        1      2      3\n",
      "Length_Employed                     \n",
      "-1                1409   3172   2790\n",
      " 0                2865   5613   4327\n",
      " 1                2265   4600   3557\n",
      " 2                3103   6424   5093\n",
      " 3                2843   5619   4512\n",
      " 4                2059   4280   3445\n",
      " 5                2248   4546   4020\n",
      " 6                1829   3868   3397\n",
      " 7                1770   3985   3553\n",
      " 8                1597   3468   2852\n",
      " 9                1222   2676   2387\n",
      " 10              10596  22329  19990\n",
      "Interest_Rate      1      2      3\n",
      "Home_Owner                        \n",
      "Mortgage       16365  29689  24291\n",
      "None               5      1      4\n",
      "Other             10     25     14\n",
      "Own             2488   5416   4621\n",
      "Rent            9719  24637  21675\n",
      "Interest_Rate                 1      2      3\n",
      "Income_Verified                              \n",
      "VERIFIED - income          8568  22670  28183\n",
      "VERIFIED - income source  10372  22913  19730\n",
      "not verified              14866  24997  12010\n",
      "Interest_Rate           1      2      3\n",
      "Purpose_Of_Loan                        \n",
      "car                   661    787    437\n",
      "credit_card         10562  16894   9228\n",
      "debt_consolidation  17129  42306  37666\n",
      "educational            37     78      6\n",
      "home_improvement     2185   3868   3216\n",
      "house                 137    241    395\n",
      "major_purchase       1055   1377   1003\n",
      "medical               222    562    757\n",
      "moving                121    291    562\n",
      "other                1042   2842   4462\n",
      "renewable_energy       23     36     64\n",
      "small_business        320    719   1353\n",
      "vacation              127    288    422\n",
      "wedding               185    291    352\n",
      "Interest_Rate      1      2      3\n",
      "Gender                            \n",
      "Female          9669  20415  17049\n",
      "Male           24137  50165  42874\n",
      "Interest_Rate           1      2      3\n",
      "Inquiries_Last_6Mo                     \n",
      "0                   22048  39134  24483\n",
      "1                    7851  19337  18883\n",
      "2                    2648   7799   9850\n",
      "3                     973   3110   4780\n",
      "4                     203    768   1307\n",
      "5                      61    278    433\n",
      "6                      21    139    175\n",
      "7                       0     15      5\n",
      "8                       1      0      7\n"
     ]
    }
   ],
   "source": [
    "for i in categorical_features:\n",
    "    print(pd.crosstab(train[i],train['Interest_Rate']))\n"
   ]
  },
  {
   "cell_type": "code",
   "execution_count": 302,
   "metadata": {},
   "outputs": [],
   "source": [
    "#X_train['Inquiries_Last_6Mo'] = np.where(X_train['Inquiries_Last_6Mo']>5,6,X_train['Inquiries_Last_6Mo'])\n",
    "#X_test['Inquiries_Last_6Mo'] = np.where(X_test['Inquiries_Last_6Mo']>5,6,X_test['Inquiries_Last_6Mo'])"
   ]
  },
  {
   "cell_type": "code",
   "execution_count": 210,
   "metadata": {},
   "outputs": [
    {
     "data": {
      "text/plain": [
       "0    56821\n",
       "1    30720\n",
       "2    13709\n",
       "3     5966\n",
       "4     1501\n",
       "5      591\n",
       "6      233\n",
       "Name: Inquiries_Last_6Mo, dtype: int64"
      ]
     },
     "execution_count": 210,
     "metadata": {},
     "output_type": "execute_result"
    }
   ],
   "source": [
    "X_test['Inquiries_Last_6Mo'].value_counts()"
   ]
  },
  {
   "cell_type": "code",
   "execution_count": 56,
   "metadata": {},
   "outputs": [
    {
     "data": {
      "text/plain": [
       "0    59421\n",
       "1    53015\n",
       "2    51873\n",
       "Name: Income_Verified, dtype: int64"
      ]
     },
     "execution_count": 56,
     "metadata": {},
     "output_type": "execute_result"
    }
   ],
   "source": [
    "X_train['Income_Verified'].value_counts()"
   ]
  },
  {
   "cell_type": "code",
   "execution_count": 287,
   "metadata": {},
   "outputs": [],
   "source": [
    "#impute caontinuous by mean, cat by mode\n",
    "for col in X_train.columns:\n",
    "    if col not in categorical_features:\n",
    "        X_train[col] = X_train[col].fillna(X_train[col].mean())\n",
    "        X_test[col] = X_test[col].fillna(X_test[col].mean())\n",
    "    else:\n",
    "        X_train[col] = X_train[col].fillna(X_train[col].mode())\n",
    "        X_test[col] = X_test[col].fillna(X_test[col].mode())\n",
    "        \n"
   ]
  },
  {
   "cell_type": "code",
   "execution_count": 257,
   "metadata": {},
   "outputs": [
    {
     "data": {
      "text/plain": [
       "['Length_Employed',\n",
       " 'Home_Owner',\n",
       " 'Income_Verified',\n",
       " 'Purpose_Of_Loan',\n",
       " 'Gender',\n",
       " 'Inquiries_Last_6Mo']"
      ]
     },
     "execution_count": 257,
     "metadata": {},
     "output_type": "execute_result"
    }
   ],
   "source": [
    "categorical_features"
   ]
  },
  {
   "cell_type": "code",
   "execution_count": 258,
   "metadata": {},
   "outputs": [
    {
     "name": "stdout",
     "output_type": "stream",
     "text": [
      "(164309, 12)\n"
     ]
    }
   ],
   "source": [
    "print(X_train.shape)"
   ]
  },
  {
   "cell_type": "code",
   "execution_count": 307,
   "metadata": {},
   "outputs": [
    {
     "name": "stdout",
     "output_type": "stream",
     "text": [
      "(273850, 12)\n"
     ]
    }
   ],
   "source": [
    "df = X_train.append(X_test, ignore_index=True)\n",
    "print(df.shape)"
   ]
  },
  {
   "cell_type": "code",
   "execution_count": 308,
   "metadata": {},
   "outputs": [
    {
     "name": "stdout",
     "output_type": "stream",
     "text": [
      "(273850, 24)\n",
      "(273850, 30)\n",
      "(273850, 33)\n"
     ]
    }
   ],
   "source": [
    "#get dummies\n",
    "\n",
    "temp = pd.get_dummies(df['Length_Employed']).add_prefix('employed_for')\n",
    "df = df.join(temp)\n",
    "print(df.shape)\n",
    "\n",
    "temp = pd.get_dummies(df['Home_Owner']).add_prefix('home_owner_')\n",
    "df = df.join(temp)\n",
    "print(df.shape)\n",
    "\n",
    "temp = pd.get_dummies(df['Income_Verified']).add_prefix('incom_verified')\n",
    "df = df.join(temp)\n",
    "print(df.shape)\n",
    "\n",
    "#temp = pd.get_dummies(df['Inquiries_Last_6Mo']).add_prefix('Last_6m_enq_')\n",
    "#df = df.join(temp)\n",
    "#print(df.shape)\n",
    "\n",
    "#temp = pd.get_dummies(df['Purpose_Of_Loan']).add_prefix('Loan_purpose_')\n",
    "#df = df.join(temp)\n",
    "#print(df.shape)"
   ]
  },
  {
   "cell_type": "code",
   "execution_count": 309,
   "metadata": {},
   "outputs": [
    {
     "data": {
      "text/plain": [
       "Index(['Loan_Amount_Requested', 'Length_Employed', 'Home_Owner',\n",
       "       'Annual_Income', 'Income_Verified', 'Purpose_Of_Loan', 'Debt_To_Income',\n",
       "       'Inquiries_Last_6Mo', 'Months_Since_Deliquency', 'Number_Open_Accounts',\n",
       "       'Total_Accounts', 'Gender', 'employed_for0', 'employed_for1',\n",
       "       'employed_for2', 'employed_for3', 'employed_for4', 'employed_for5',\n",
       "       'employed_for6', 'employed_for7', 'employed_for8', 'employed_for9',\n",
       "       'employed_for10', 'employed_for999', 'home_owner_0', 'home_owner_1',\n",
       "       'home_owner_2', 'home_owner_3', 'home_owner_4', 'home_owner_5',\n",
       "       'incom_verified0', 'incom_verified1', 'incom_verified2'],\n",
       "      dtype='object')"
      ]
     },
     "execution_count": 309,
     "metadata": {},
     "output_type": "execute_result"
    }
   ],
   "source": [
    "df.columns"
   ]
  },
  {
   "cell_type": "code",
   "execution_count": 293,
   "metadata": {},
   "outputs": [],
   "source": [
    "X_train = df.iloc[:164309,:]\n",
    "X_test = df.iloc[164309:,:]"
   ]
  },
  {
   "cell_type": "code",
   "execution_count": 294,
   "metadata": {},
   "outputs": [
    {
     "name": "stdout",
     "output_type": "stream",
     "text": [
      "(109541, 13)\n",
      "(109541, 33)\n"
     ]
    }
   ],
   "source": [
    "print(test.shape)\n",
    "print(X_test.shape)"
   ]
  },
  {
   "cell_type": "code",
   "execution_count": 263,
   "metadata": {},
   "outputs": [
    {
     "data": {
      "text/plain": [
       "<matplotlib.axes._subplots.AxesSubplot at 0x5173fbe8d0>"
      ]
     },
     "execution_count": 263,
     "metadata": {},
     "output_type": "execute_result"
    },
    {
     "data": {
      "image/png": "[encoded data removed]",
      "text/plain": [
       "<Figure size 432x288 with 1 Axes>"
      ]
     },
     "metadata": {
      "needs_background": "light"
     },
     "output_type": "display_data"
    }
   ],
   "source": [
    "sns.distplot(X_test['Annual_Income'] )"
   ]
  },
  {
   "cell_type": "code",
   "execution_count": 219,
   "metadata": {},
   "outputs": [
    {
     "name": "stdout",
     "output_type": "stream",
     "text": [
      "23212\n",
      "15430\n"
     ]
    }
   ],
   "source": [
    "print(np.count_nonzero(X_train['Annual_Income'] > 100000))\n",
    "print(np.count_nonzero(X_test['Annual_Income'] > 100000))"
   ]
  },
  {
   "cell_type": "code",
   "execution_count": 220,
   "metadata": {},
   "outputs": [
    {
     "data": {
      "text/plain": [
       "count    1.643090e+05\n",
       "mean     7.333116e+04\n",
       "std      5.557439e+04\n",
       "min      4.000000e+03\n",
       "25%      4.860000e+04\n",
       "50%      7.000000e+04\n",
       "75%      8.200000e+04\n",
       "max      7.500000e+06\n",
       "Name: Annual_Income, dtype: float64"
      ]
     },
     "execution_count": 220,
     "metadata": {},
     "output_type": "execute_result"
    }
   ],
   "source": [
    "X_train['Annual_Income'].describe()"
   ]
  },
  {
   "cell_type": "code",
   "execution_count": 221,
   "metadata": {},
   "outputs": [
    {
     "name": "stdout",
     "output_type": "stream",
     "text": [
      "40743\n",
      "27192\n"
     ]
    }
   ],
   "source": [
    "print(np.count_nonzero(X_train['Annual_Income'] >82000))\n",
    "print(np.count_nonzero(X_test['Annual_Income'] > 82000))"
   ]
  },
  {
   "cell_type": "code",
   "execution_count": 195,
   "metadata": {},
   "outputs": [],
   "source": [
    "#X_train['rich_lad'] = (X_train['Annual_Income'] > 82000).astype(int)\n",
    "#X_test['rich_lad'] = (X_test['Annual_Income'] > 82000).astype(int)"
   ]
  },
  {
   "cell_type": "code",
   "execution_count": 114,
   "metadata": {},
   "outputs": [],
   "source": [
    "#X_train['Annual_Income'] = np.where(X_train['Annual_Income']>500000,600000,X_train['Annual_Income'])\n",
    "#X_test['Annual_Income'] = np.where(X_test['Annual_Income']>500000,600000,X_test['Annual_Income'])"
   ]
  },
  {
   "cell_type": "code",
   "execution_count": 117,
   "metadata": {},
   "outputs": [
    {
     "data": {
      "text/plain": [
       "<matplotlib.axes._subplots.AxesSubplot at 0x992bc74b00>"
      ]
     },
     "execution_count": 117,
     "metadata": {},
     "output_type": "execute_result"
    },
    {
     "data": {
      "image/png": "[encoded data removed]",
      "text/plain": [
       "<Figure size 432x288 with 1 Axes>"
      ]
     },
     "metadata": {
      "needs_background": "light"
     },
     "output_type": "display_data"
    }
   ],
   "source": [
    "sns.boxplot(x='Income_Verified',y='Annual_Income',data=X_train)"
   ]
  },
  {
   "cell_type": "code",
   "execution_count": 295,
   "metadata": {},
   "outputs": [],
   "source": [
    "#Cap the income to 200000\n",
    "X_train['Annual_Income'] = np.where(X_train['Annual_Income']>200000,200000,X_train['Annual_Income'])\n",
    "X_test['Annual_Income'] = np.where(X_test['Annual_Income']>200000,200000,X_test['Annual_Income'])"
   ]
  },
  {
   "cell_type": "code",
   "execution_count": 310,
   "metadata": {},
   "outputs": [],
   "source": [
    "#Find incative acounts\n",
    "X_train['inactive_acc'] = X_train['Total_Accounts'] - X_train['Number_Open_Accounts']\n",
    "X_test['inactive_acc'] = X_test['Total_Accounts'] - X_test['Number_Open_Accounts']"
   ]
  },
  {
   "cell_type": "code",
   "execution_count": 297,
   "metadata": {},
   "outputs": [],
   "source": [
    "# Splitting the dataset into the Training set and Test set\n",
    "from sklearn.model_selection import train_test_split\n",
    "X_train_pre, X_test_pre, y_train_pre, y_test_pre = train_test_split(X_train, y_train, test_size = .10, random_state = 0, stratify = y_train)\n"
   ]
  },
  {
   "cell_type": "code",
   "execution_count": 298,
   "metadata": {},
   "outputs": [
    {
     "name": "stdout",
     "output_type": "stream",
     "text": [
      "Training lightgbm\n"
     ]
    }
   ],
   "source": [
    "import lightgbm as lgb\n",
    "print ('Training lightgbm')\n",
    "\n",
    "# money\n",
    "params = {\n",
    "          \"objective\" : \"multiclass\",\n",
    "          \"num_class\" : 4,\n",
    "      #    \"metric\": \"auc\",\n",
    "          \"num_leaves\" : 128,\n",
    "          \"max_depth\": -1,\n",
    "          'boosting': 'gbdt',\n",
    "          \"learning_rate\" : 0.01,\n",
    "          \"bagging_fraction\" : 0.9,  # subsample\n",
    "         \"feature_fraction\" : 0.9,  # colsample_bytree\n",
    "          \"bagging_freq\" : 20,        # subsample_freq\n",
    "         # \"bagging_seed\" : 2018,\n",
    "          \"verbosity\" : -1 }\n",
    "\n",
    "lgb_train = lgb.Dataset(X_train_pre, y_train_pre)\n",
    "lgb_eval = lgb.Dataset(X_test_pre, y_test_pre, reference=lgb_train)"
   ]
  },
  {
   "cell_type": "code",
   "execution_count": 299,
   "metadata": {},
   "outputs": [
    {
     "name": "stdout",
     "output_type": "stream",
     "text": [
      "Starting training...\n",
      "Training until validation scores don't improve for 150 rounds.\n",
      "[100]\tvalid_0's multi_logloss: 0.975392\n",
      "[200]\tvalid_0's multi_logloss: 0.946815\n",
      "[300]\tvalid_0's multi_logloss: 0.933932\n",
      "[400]\tvalid_0's multi_logloss: 0.927082\n",
      "[500]\tvalid_0's multi_logloss: 0.92281\n",
      "[600]\tvalid_0's multi_logloss: 0.919781\n",
      "[700]\tvalid_0's multi_logloss: 0.918049\n",
      "[800]\tvalid_0's multi_logloss: 0.916864\n",
      "[900]\tvalid_0's multi_logloss: 0.915835\n",
      "[1000]\tvalid_0's multi_logloss: 0.91513\n",
      "[1100]\tvalid_0's multi_logloss: 0.914722\n",
      "[1200]\tvalid_0's multi_logloss: 0.914211\n",
      "[1300]\tvalid_0's multi_logloss: 0.913947\n",
      "[1400]\tvalid_0's multi_logloss: 0.913927\n",
      "[1500]\tvalid_0's multi_logloss: 0.913691\n",
      "[1600]\tvalid_0's multi_logloss: 0.913529\n",
      "[1700]\tvalid_0's multi_logloss: 0.913617\n",
      "Early stopping, best iteration is:\n",
      "[1642]\tvalid_0's multi_logloss: 0.91348\n"
     ]
    }
   ],
   "source": [
    "print('Starting training...')\n",
    "# train\n",
    "gbm = lgb.train(params,\n",
    "                lgb_train,\n",
    "                num_boost_round=17500,\n",
    "                valid_sets=lgb_eval,\n",
    "                early_stopping_rounds=150,verbose_eval=100)"
   ]
  },
  {
   "cell_type": "code",
   "execution_count": 300,
   "metadata": {},
   "outputs": [
    {
     "data": {
      "text/plain": [
       "array([96002, 28154, 14104, 85423, 15020, 28259, 97811, 20162, 50247,\n",
       "       43381, 50210,  6390,   370,  1892,  2203,  2286,  2067,  1931,\n",
       "        1920,  1987,  1646,  1436,  3331,   348,  1348,     0,    18,\n",
       "        2631,  6801,   459,  1385,  4755,   783, 50842])"
      ]
     },
     "execution_count": 300,
     "metadata": {},
     "output_type": "execute_result"
    }
   ],
   "source": [
    "gbm.feature_importance()"
   ]
  },
  {
   "cell_type": "code",
   "execution_count": 272,
   "metadata": {},
   "outputs": [
    {
     "data": {
      "text/plain": [
       "Index(['Loan_Amount_Requested', 'Length_Employed', 'Home_Owner',\n",
       "       'Annual_Income', 'Income_Verified', 'Purpose_Of_Loan', 'Debt_To_Income',\n",
       "       'Inquiries_Last_6Mo', 'Months_Since_Deliquency', 'Number_Open_Accounts',\n",
       "       'Total_Accounts', 'Gender', 'employed_for-1', 'employed_for0',\n",
       "       'employed_for1', 'employed_for2', 'employed_for3', 'employed_for4',\n",
       "       'employed_for5', 'employed_for6', 'employed_for7', 'employed_for8',\n",
       "       'employed_for9', 'employed_for10', 'home_owner_0', 'home_owner_1',\n",
       "       'home_owner_2', 'home_owner_3', 'home_owner_4', 'home_owner_5',\n",
       "       'incom_verified0', 'incom_verified1', 'incom_verified2', 'istype_1',\n",
       "       'inactive_acc'],\n",
       "      dtype='object')"
      ]
     },
     "execution_count": 272,
     "metadata": {},
     "output_type": "execute_result"
    }
   ],
   "source": [
    "X_train.columns"
   ]
  },
  {
   "cell_type": "code",
   "execution_count": 301,
   "metadata": {},
   "outputs": [
    {
     "name": "stdout",
     "output_type": "stream",
     "text": [
      "Starting predicting...\n"
     ]
    }
   ],
   "source": [
    "print('Starting predicting...')\n",
    "# predict\n",
    "y_pred = gbm.predict(X_test, num_iteration=gbm.best_iteration)\n",
    "predictions = []\n",
    "\n",
    "for x in y_pred:\n",
    "    predictions.append(np.argmax(x))\n",
    "sample['Interest_Rate'] = predictions\n",
    "sample.to_csv(r\"C:\\Users\\Ashish\\Desktop\\Data Science A-Z\\Jantahack8\\sub_lgb.csv\",index=False)"
   ]
  }
 ],
 "metadata": {
  "kernelspec": {
   "display_name": "Python 3",
   "language": "python",
   "name": "python3"
  },
  "language_info": {
   "codemirror_mode": {
    "name": "ipython",
    "version": 3
   },
   "file_extension": ".py",
   "mimetype": "text/x-python",
   "name": "python",
   "nbconvert_exporter": "python",
   "pygments_lexer": "ipython3",
   "version": "3.6.7"
  }
 },
 "nbformat": 4,
 "nbformat_minor": 2
}
